{
  "nbformat": 4,
  "nbformat_minor": 0,
  "metadata": {
    "colab": {
      "name": "Task_02.ipynb",
      "provenance": [],
      "collapsed_sections": []
    },
    "kernelspec": {
      "name": "python3",
      "display_name": "Python 3"
    },
    "language_info": {
      "name": "python"
    }
  },
  "cells": [
    {
      "cell_type": "markdown",
      "metadata": {
        "id": "uqWgWFlUganx"
      },
      "source": [
        "**Name: *Md. Neyamul Islam Shibbir***<br>\n",
        "**Reg. No: *2017331047***"
      ]
    },
    {
      "cell_type": "markdown",
      "metadata": {
        "id": "feHZqS-4obw2"
      },
      "source": [
        " **Line Coding:** Line coding is the process of converting digital data to digital signals.<br>\n",
        "\n"
      ]
    },
    {
      "cell_type": "markdown",
      "metadata": {
        "id": "1RsEjRFUxv2A"
      },
      "source": [
        "Random Digital Data Generation"
      ]
    },
    {
      "cell_type": "code",
      "metadata": {
        "colab": {
          "base_uri": "https://localhost:8080/"
        },
        "id": "woUll_eNxupJ",
        "outputId": "88241066-084d-4351-c992-a557212b90ae"
      },
      "source": [
        "#2017331047\n",
        "import numpy as np\n",
        "import matplotlib.pyplot as plt\n",
        "import random\n",
        "from termcolor import colored\n",
        "#lets make a random digital data\n",
        "\n",
        "# digital_data = []\n",
        "# for i in range(0,10):\n",
        "#   n = random.randint(0,1)\n",
        "#   digital_data.append(n)\n",
        "digital_data=[0,1,0,0,1,1,1,1,1,0]\n",
        "print(colored(\"The Digital Data is: \", 'red'))\n",
        "print(digital_data)\n",
        "l = len(digital_data)"
      ],
      "execution_count": null,
      "outputs": [
        {
          "output_type": "stream",
          "name": "stdout",
          "text": [
            "\u001b[31mThe Digital Data is: \u001b[0m\n",
            "[0, 1, 0, 0, 1, 1, 1, 1, 1, 0]\n"
          ]
        }
      ]
    },
    {
      "cell_type": "markdown",
      "metadata": {
        "id": "Yih8B8gHiBYa"
      },
      "source": [
        "# **NRZ(non return to zero) encoding**"
      ]
    },
    {
      "cell_type": "code",
      "metadata": {
        "colab": {
          "base_uri": "https://localhost:8080/",
          "height": 235
        },
        "id": "-iJkFVPqt4ME",
        "outputId": "7be6708f-63b6-4100-e76b-853e952bd13d"
      },
      "source": [
        "#2017331047\n",
        "#NRZ(non return to zero)\n",
        "\n",
        "n=500  # how much sampling point will be appeared in each bit\n",
        "N = n*l #total sample points in the data\n",
        "\n",
        "t=np.linspace(0,N,N)\n",
        "modified_data= []\n",
        "\n",
        "for i in digital_data:\n",
        "  if i==0:\n",
        "    for k in range(n):\n",
        "      modified_data.append(0)\n",
        "  else:\n",
        "        for k in range(n):\n",
        "          modified_data.append(1)\n",
        "\n",
        "plt.plot(t,modified_data)\n",
        "plt.ylabel('Amplitude')\n",
        "plt.xlabel('NRZ coded signal')\n",
        "\n",
        "plt.subplots_adjust(hspace=.5)\n",
        "plt.rc('font', size=15)\n",
        "fig = plt.gcf()\n",
        "fig.set_size_inches(12, 3)"
      ],
      "execution_count": null,
      "outputs": [
        {
          "output_type": "display_data",
          "data": {
            "image/png": "[encoded data removed]",
            "text/plain": [
              "<Figure size 864x216 with 1 Axes>"
            ]
          },
          "metadata": {
            "needs_background": "light"
          }
        }
      ]
    },
    {
      "cell_type": "markdown",
      "metadata": {
        "id": "qD28hiXdxOAp"
      },
      "source": [
        "# **NRZ decoding**"
      ]
    },
    {
      "cell_type": "code",
      "metadata": {
        "colab": {
          "base_uri": "https://localhost:8080/"
        },
        "id": "ByIukMSI4Ifc",
        "outputId": "b8282f09-c0e0-48a1-cfe3-2da210be733b"
      },
      "source": [
        "#2017331047\n",
        "decoded_data= []\n",
        "for i,t in enumerate(modified_data, start=1):\n",
        "  if i%n:\n",
        "    continue\n",
        "  else:\n",
        "    decoded_data.append(t)\n",
        "\n",
        "print(colored(\"The Decoded NRZ Digital Data is: \", 'red'))\n",
        "print(decoded_data)\n"
      ],
      "execution_count": null,
      "outputs": [
        {
          "output_type": "stream",
          "name": "stdout",
          "text": [
            "\u001b[31mThe Decoded NRZ Digital Data is: \u001b[0m\n",
            "[0, 1, 0, 0, 1, 1, 1, 1, 1, 0]\n"
          ]
        }
      ]
    },
    {
      "cell_type": "markdown",
      "metadata": {
        "id": "kLkBknyti0Uz"
      },
      "source": [
        "# **Non Return to Zero - Level Encoding**"
      ]
    },
    {
      "cell_type": "code",
      "metadata": {
        "colab": {
          "base_uri": "https://localhost:8080/",
          "height": 269
        },
        "id": "hwQVeorK8Akb",
        "outputId": "3760763c-a2af-4346-a895-4ab5a0c7ce0d"
      },
      "source": [
        "#2017331047\n",
        "#NRZ-L\n",
        "\n",
        "\n",
        "n=500  # how much sampling point will be appeared in each bit\n",
        "N = n*l #total sample points in the data\n",
        "t=np.linspace(0,N,N)\n",
        "\n",
        "modified_data=[]\n",
        "for i in digital_data:\n",
        "  if i==0:\n",
        "    for k in range(n):\n",
        "      modified_data.append(1)\n",
        "  else:\n",
        "        for k in range(n):\n",
        "          modified_data.append(-1)\n",
        "\n",
        "print(colored(\"The Digital Data is: \", 'red'))\n",
        "print(digital_data)\n",
        "plt.plot(t,modified_data)\n",
        "plt.ylabel('Amplitude')\n",
        "plt.xlabel('NRZ-L coded signal')\n",
        "\n",
        "plt.subplots_adjust(hspace=.5)\n",
        "plt.rc('font', size=15)\n",
        "fig = plt.gcf()\n",
        "fig.set_size_inches(12, 3)"
      ],
      "execution_count": null,
      "outputs": [
        {
          "output_type": "stream",
          "name": "stdout",
          "text": [
            "\u001b[31mThe Digital Data is: \u001b[0m\n",
            "[0, 1, 0, 0, 1, 1, 1, 1, 1, 0]\n"
          ]
        },
        {
          "output_type": "display_data",
          "data": {
            "image/png": "[encoded data removed]",
            "text/plain": [
              "<Figure size 864x216 with 1 Axes>"
            ]
          },
          "metadata": {
            "needs_background": "light"
          }
        }
      ]
    },
    {
      "cell_type": "markdown",
      "metadata": {
        "id": "TrgXFg7n7c-O"
      },
      "source": [
        "# **Non Return to Zero - Level Decoding**"
      ]
    },
    {
      "cell_type": "code",
      "metadata": {
        "colab": {
          "base_uri": "https://localhost:8080/"
        },
        "id": "sae4AbYF7pO8",
        "outputId": "8ca92901-cfbe-4171-af23-acc36c52f356"
      },
      "source": [
        "#2017331047\n",
        "decoded_data= []\n",
        "for i,x in enumerate(modified_data, start=1):\n",
        "  if i%n:\n",
        "    continue\n",
        "  else:\n",
        "    if x==1:\n",
        "      decoded_data.append(0)\n",
        "    else:\n",
        "      decoded_data.append(1)\n",
        "\n",
        "print(colored(\"The Decoded NRZ-L Digital Data is: \", 'red'))\n",
        "print(decoded_data)\n",
        "\n"
      ],
      "execution_count": null,
      "outputs": [
        {
          "output_type": "stream",
          "name": "stdout",
          "text": [
            "\u001b[31mThe Decoded NRZ-L Digital Data is: \u001b[0m\n",
            "[0, 1, 0, 0, 1, 1, 1, 1, 1, 0]\n"
          ]
        }
      ]
    },
    {
      "cell_type": "markdown",
      "metadata": {
        "id": "hNvWbtwVoFg9"
      },
      "source": [
        "# **NRZ-I Encoding**"
      ]
    },
    {
      "cell_type": "code",
      "metadata": {
        "colab": {
          "base_uri": "https://localhost:8080/",
          "height": 269
        },
        "id": "rkoWZ-7K8IKn",
        "outputId": "6e592dcd-4bf3-4165-d298-e4461bef508c"
      },
      "source": [
        "#2017331047\n",
        "#NRZ-I\n",
        "modified_data=[]\n",
        "cnt=1\n",
        "prev_data=0\n",
        "x1=np.arange(0,8,1);\n",
        "print(colored(\"The Digital Data is: \", 'red'))\n",
        "print(digital_data)\n",
        "\n",
        "\n",
        "n=500  # how much sampling point will be appeared in each bit\n",
        "N = n*l #total sample points in the data\n",
        "t=np.linspace(0,N,N)\n",
        "\n",
        "\n",
        "modified_data=[]\n",
        "for i in digital_data:\n",
        "  if cnt==1:\n",
        "    if i==0:\n",
        "      data=1\n",
        "    elif i==1:\n",
        "      data=-1\n",
        "  else:\n",
        "    if i==0:\n",
        "      data= prev_data\n",
        "    else:\n",
        "      data= -1*(prev_data)\n",
        "  for k in range(n):\n",
        "    modified_data.append(data)\n",
        "  prev_data=data\n",
        "  cnt=cnt+1\n",
        "\n",
        "plt.plot(t,modified_data)\n",
        "plt.ylabel('Amplitude')\n",
        "plt.xlabel('NRZ-I coded signal')\n",
        "\n",
        "\n",
        "plt.subplots_adjust(hspace=.5)\n",
        "plt.rc('font', size=15)\n",
        "fig = plt.gcf()\n",
        "fig.set_size_inches(12, 3)"
      ],
      "execution_count": null,
      "outputs": [
        {
          "output_type": "stream",
          "name": "stdout",
          "text": [
            "\u001b[31mThe Digital Data is: \u001b[0m\n",
            "[0, 1, 0, 0, 1, 1, 1, 1, 1, 0]\n"
          ]
        },
        {
          "output_type": "display_data",
          "data": {
            "image/png": "[encoded data removed]",
            "text/plain": [
              "<Figure size 864x216 with 1 Axes>"
            ]
          },
          "metadata": {
            "needs_background": "light"
          }
        }
      ]
    },
    {
      "cell_type": "markdown",
      "metadata": {
        "id": "Dr9NqOKX-JpI"
      },
      "source": [
        "# **NRZ-I Decoding**"
      ]
    },
    {
      "cell_type": "code",
      "metadata": {
        "colab": {
          "base_uri": "https://localhost:8080/"
        },
        "id": "5xdhH9sn_73c",
        "outputId": "ad8c7ccb-dc18-48e0-f564-7ae06f620170"
      },
      "source": [
        "#2017331047\n",
        "decoded_data= []\n",
        "if modified_data[0]== 1:\n",
        "  decoded_data.append(0)\n",
        "else:\n",
        "  decoded_data.append(1)\n",
        "\n",
        "prev_signal=modified_data[0]\n",
        "for i,x in enumerate(modified_data, start=1):\n",
        "  if i==n:\n",
        "    continue\n",
        "\n",
        "  if i%n:\n",
        "    continue\n",
        "  else:\n",
        "    if x==prev_signal:\n",
        "      decoded_data.append(0)\n",
        "    else:\n",
        "      decoded_data.append(1)\n",
        "  prev_signal=x\n",
        "  \n",
        "\n",
        "print(colored(\"The Decoded NRZ-I Digital Data is: \", 'red'))\n",
        "print(decoded_data)"
      ],
      "execution_count": null,
      "outputs": [
        {
          "output_type": "stream",
          "name": "stdout",
          "text": [
            "\u001b[31mThe Decoded NRZ-I Digital Data is: \u001b[0m\n",
            "[0, 1, 0, 0, 1, 1, 1, 1, 1, 0]\n"
          ]
        }
      ]
    },
    {
      "cell_type": "markdown",
      "metadata": {
        "id": "TIP0Br9Tn7ec"
      },
      "source": [
        "# **Polar-RZ Encoding**"
      ]
    },
    {
      "cell_type": "code",
      "metadata": {
        "colab": {
          "base_uri": "https://localhost:8080/",
          "height": 269
        },
        "id": "Ai0j5Wb-YA6J",
        "outputId": "bd28cacc-ca21-42d5-c6a9-5be151eeea39"
      },
      "source": [
        "#2017331047\n",
        "#Polar-RZ\n",
        "\n",
        "n=500  # how much sampling point will be appeared in each bit\n",
        "N = n*l #total sample points in the data\n",
        "t=np.linspace(0,N,N)\n",
        "modified_data=[]\n",
        "half = int(n/2)\n",
        "\n",
        "for i in digital_data:\n",
        "  if i==0:\n",
        "      for k in range(half):\n",
        "        modified_data.append(-1)\n",
        "      for k in range(half):\n",
        "        modified_data.append(0)\n",
        "      \n",
        "  else:\n",
        "      for k in range(half):\n",
        "        modified_data.append(1)\n",
        "      for k in range(half):\n",
        "        modified_data.append(0) \n",
        "\n",
        "        \n",
        "x1=np.arange(0,13,1);\n",
        "print(colored(\"The Digital Data is: \", 'red'))\n",
        "print(digital_data)\n",
        "plt.plot(t,modified_data)\n",
        "plt.ylabel('Amplitude')\n",
        "plt.xlabel('Polar-RZ coded signal')\n",
        "\n",
        "plt.subplots_adjust(hspace=.5)\n",
        "plt.rc('font', size=15)\n",
        "fig = plt.gcf()\n",
        "fig.set_size_inches(12, 3)"
      ],
      "execution_count": null,
      "outputs": [
        {
          "output_type": "stream",
          "name": "stdout",
          "text": [
            "\u001b[31mThe Digital Data is: \u001b[0m\n",
            "[0, 1, 0, 0, 1, 1, 1, 1, 1, 0]\n"
          ]
        },
        {
          "output_type": "display_data",
          "data": {
            "image/png": "[encoded data removed]",
            "text/plain": [
              "<Figure size 864x216 with 1 Axes>"
            ]
          },
          "metadata": {
            "needs_background": "light"
          }
        }
      ]
    },
    {
      "cell_type": "markdown",
      "metadata": {
        "id": "YyBNQgznYEtV"
      },
      "source": [
        "# **Polar-RZ Decoding**"
      ]
    },
    {
      "cell_type": "code",
      "metadata": {
        "colab": {
          "base_uri": "https://localhost:8080/"
        },
        "id": "fgNdVMVMYSG7",
        "outputId": "b464a837-e37b-43af-f828-9382fa546259"
      },
      "source": [
        " #2017331047\n",
        " decoded_data= []\n",
        "for i,x in enumerate(modified_data, start=1):\n",
        "  if i%n!=1:\n",
        "    continue\n",
        "  else:\n",
        "    if x==-1:\n",
        "      decoded_data.append(0)\n",
        "    else:\n",
        "      decoded_data.append(1)\n",
        "\n",
        "print(colored(\"The Decoded Polar-RZ Digital Data is: \", 'red'))\n",
        "print(decoded_data)"
      ],
      "execution_count": null,
      "outputs": [
        {
          "output_type": "stream",
          "name": "stdout",
          "text": [
            "\u001b[31mThe Decoded Polar-RZ Digital Data is: \u001b[0m\n",
            "[0, 1, 0, 0, 1, 1, 1, 1, 1, 0]\n"
          ]
        }
      ]
    },
    {
      "cell_type": "markdown",
      "metadata": {
        "id": "8dPtBw3fn4cL"
      },
      "source": [
        "# **Manchester Encoding**"
      ]
    },
    {
      "cell_type": "code",
      "metadata": {
        "colab": {
          "base_uri": "https://localhost:8080/",
          "height": 269
        },
        "id": "wIQsnF6bZkFL",
        "outputId": "08b2855e-a57e-4551-f40c-5b7562511f3b"
      },
      "source": [
        "#2017331047\n",
        "#Manchester\n",
        "\n",
        "modified_data=[]\n",
        "print(colored(\"The Digital Data is: \", 'red'))\n",
        "print(digital_data)\n",
        "\n",
        "n=500  # how much sampling point will be appeared in each bit\n",
        "N = n*l #total sample points in the data\n",
        "t=np.linspace(0,N,N)\n",
        "half =  int(n/2) #half of samples\n",
        "\n",
        "\n",
        "cnt=1\n",
        "for i in digital_data:\n",
        "    if i==0:\n",
        "      for k in range(half):\n",
        "        modified_data.append(1)\n",
        "      for k in range(half):\n",
        "        modified_data.append(-1)\n",
        "    else:\n",
        "      for k in range(half):\n",
        "        modified_data.append(-1)\n",
        "      for k in range(half):\n",
        "        modified_data.append(1)\n",
        "  \n",
        "plt.plot(t,modified_data)\n",
        "plt.ylabel('Amplitude')\n",
        "plt.xlabel('Manchester Encoding')\n",
        "\n",
        "plt.subplots_adjust(hspace=.5)\n",
        "plt.rc('font', size=15)\n",
        "fig = plt.gcf()\n",
        "fig.set_size_inches(12, 3)"
      ],
      "execution_count": null,
      "outputs": [
        {
          "output_type": "stream",
          "name": "stdout",
          "text": [
            "\u001b[31mThe Digital Data is: \u001b[0m\n",
            "[0, 1, 0, 0, 1, 1, 1, 1, 1, 0]\n"
          ]
        },
        {
          "output_type": "display_data",
          "data": {
            "image/png": "[encoded data removed]",
            "text/plain": [
              "<Figure size 864x216 with 1 Axes>"
            ]
          },
          "metadata": {
            "needs_background": "light"
          }
        }
      ]
    },
    {
      "cell_type": "markdown",
      "metadata": {
        "id": "K-0-m1s2g4zI"
      },
      "source": [
        "# **Manchester Decoding**"
      ]
    },
    {
      "cell_type": "code",
      "metadata": {
        "colab": {
          "base_uri": "https://localhost:8080/"
        },
        "id": "8DZf_wpehAZO",
        "outputId": "d375d90e-fa55-4977-ae06-c3db69d79fce"
      },
      "source": [
        "#2017331047\n",
        "decoded_data= []\n",
        "for i,x in enumerate(modified_data, start=1):\n",
        "  if i%n:\n",
        "    continue\n",
        "  else:\n",
        "    if x==1:\n",
        "      decoded_data.append(1)\n",
        "    else:\n",
        "      decoded_data.append(0)\n",
        "\n",
        "print(colored(\"The Decoded Manchestar Digital Data is: \", 'red'))\n",
        "print(decoded_data)"
      ],
      "execution_count": null,
      "outputs": [
        {
          "output_type": "stream",
          "name": "stdout",
          "text": [
            "\u001b[31mThe Decoded Manchestar Digital Data is: \u001b[0m\n",
            "[0, 1, 0, 0, 1, 1, 1, 1, 1, 0]\n"
          ]
        }
      ]
    },
    {
      "cell_type": "markdown",
      "metadata": {
        "id": "sMwa-elnnw7V"
      },
      "source": [
        "# **Differential Manchester Encoding**"
      ]
    },
    {
      "cell_type": "markdown",
      "metadata": {
        "id": "nTQpPgILjUKJ"
      },
      "source": [
        "For differential Manchester if the bit<br> \n",
        "0 --> First Half of the sample points opposite of previous. Then Other Half Side of amplitude of last bit.<br>\n",
        "1--> First half of the sample points has the same side of amplitude of last bit. then, second half otherside."
      ]
    },
    {
      "cell_type": "code",
      "metadata": {
        "colab": {
          "base_uri": "https://localhost:8080/",
          "height": 269
        },
        "id": "wh8IEbyCeGHJ",
        "outputId": "1f866c9a-04c9-4884-9c8d-a089c0ea394a"
      },
      "source": [
        "#2017331047\n",
        "#Differential_Manchester\n",
        "modified_data=[]\n",
        "\n",
        "n=500  # how much sampling point will be appeared in each bit\n",
        "N = n*l #total sample points in the data\n",
        "t=np.linspace(0,N,N)\n",
        "half = int(n/2)\n",
        "\n",
        "print(colored(\"The Digital Data is: \", 'red'))\n",
        "print(digital_data)\n",
        "            \n",
        "signal=1 #suppose previous signal is 1  \n",
        "for i in digital_data:\n",
        "  if i==0:\n",
        "    for k in range(half):\n",
        "      modified_data.append(-1*(signal))\n",
        "    for k in range(half):\n",
        "      modified_data.append(signal)\n",
        "  else:\n",
        "    for k in range(half):\n",
        "      modified_data.append((signal))\n",
        "    for k in range(half):\n",
        "      modified_data.append(-1*(signal))\n",
        "    signal= -1*(signal)\n",
        "\n",
        "plt.plot(t,modified_data)        \n",
        "\n",
        "plt.ylabel('Amplitude')\n",
        "plt.xlabel('Differential Manchester Encoding')\n",
        "plt.subplots_adjust(hspace=.5)\n",
        "plt.rc('font', size=15)\n",
        "fig = plt.gcf()\n",
        "fig.set_size_inches(12, 3)"
      ],
      "execution_count": null,
      "outputs": [
        {
          "output_type": "stream",
          "name": "stdout",
          "text": [
            "\u001b[31mThe Digital Data is: \u001b[0m\n",
            "[0, 1, 0, 0, 1, 1, 1, 1, 1, 0]\n"
          ]
        },
        {
          "output_type": "display_data",
          "data": {
            "image/png": "[encoded data removed]",
            "text/plain": [
              "<Figure size 864x216 with 1 Axes>"
            ]
          },
          "metadata": {
            "needs_background": "light"
          }
        }
      ]
    },
    {
      "cell_type": "markdown",
      "metadata": {
        "id": "ExTwp6h9p-dM"
      },
      "source": [
        "# **Differential Manchester Dencoding**"
      ]
    },
    {
      "cell_type": "code",
      "metadata": {
        "colab": {
          "base_uri": "https://localhost:8080/"
        },
        "id": "zQVRF6Ohqkw4",
        "outputId": "8379bc70-9a09-4d02-98d3-5b6945a0af92"
      },
      "source": [
        "#2017331047\n",
        "decoded_data= []\n",
        "first=1\n",
        "prev=1;\n",
        "for i,x in enumerate(modified_data, start=1):\n",
        "  if i%n:\n",
        "    continue\n",
        "  else:\n",
        "    if x == prev:\n",
        "      decoded_data.append(0)\n",
        "    else:\n",
        "      decoded_data.append(1)\n",
        "      prev=x;\n",
        "  \n",
        "print(colored(\"The Decoded Differential Manchester Digital Data is: \", 'red'))\n",
        "print(decoded_data)       "
      ],
      "execution_count": null,
      "outputs": [
        {
          "output_type": "stream",
          "name": "stdout",
          "text": [
            "\u001b[31mThe Decoded Differential Manchester Digital Data is: \u001b[0m\n",
            "[0, 1, 0, 0, 1, 1, 1, 1, 1, 0]\n"
          ]
        }
      ]
    },
    {
      "cell_type": "markdown",
      "metadata": {
        "id": "A-5tgJv1ntTM"
      },
      "source": [
        "# **Alternate Mark Inversion(AMI) Encoding**"
      ]
    },
    {
      "cell_type": "code",
      "metadata": {
        "colab": {
          "base_uri": "https://localhost:8080/",
          "height": 269
        },
        "id": "2PUX2Deaw-p-",
        "outputId": "cb4fc73b-a2a3-4b64-b010-96d32927c6bb"
      },
      "source": [
        "\n",
        "#2017331047\n",
        "#AMI\n",
        "modified_data=[]\n",
        "n=500  # how much sampling point will be appeared in each bit\n",
        "N = n*l #total sample points in the data\n",
        "t=np.linspace(0,N,N)\n",
        "prev_one=-1; # let's assume previous 1 voltage is negetive\n",
        "for i in digital_data:\n",
        "  if i==0:\n",
        "    for k in range(n):\n",
        "      modified_data.append(0)\n",
        "  else:\n",
        "    for k in range(n):\n",
        "      modified_data.append(-1*(prev_one))\n",
        "    prev_one= -1*(prev_one)\n",
        "        \n",
        "\n",
        "print(colored(\"The Digital Data is: \", 'red'))\n",
        "print(digital_data)\n",
        "plt.plot(t,modified_data)\n",
        "plt.ylabel('Amplitude')\n",
        "plt.xlabel('Alternate Mark Inversion(AMI) Encoding')\n",
        "\n",
        "plt.subplots_adjust(hspace=.5)\n",
        "plt.rc('font', size=15)\n",
        "fig = plt.gcf()\n",
        "fig.set_size_inches(12, 3)\n"
      ],
      "execution_count": null,
      "outputs": [
        {
          "output_type": "stream",
          "name": "stdout",
          "text": [
            "\u001b[31mThe Digital Data is: \u001b[0m\n",
            "[0, 1, 0, 0, 1, 1, 1, 1, 1, 0]\n"
          ]
        },
        {
          "output_type": "display_data",
          "data": {
            "image/png": "[encoded data removed]",
            "text/plain": [
              "<Figure size 864x216 with 1 Axes>"
            ]
          },
          "metadata": {
            "needs_background": "light"
          }
        }
      ]
    },
    {
      "cell_type": "markdown",
      "metadata": {
        "id": "Tzjk7XKAvFje"
      },
      "source": [
        "# **Alternate Mark Inversion Dencoding**"
      ]
    },
    {
      "cell_type": "code",
      "metadata": {
        "colab": {
          "base_uri": "https://localhost:8080/"
        },
        "id": "A8OPo0B6vQhY",
        "outputId": "8fdea2b5-b191-4702-99a9-d7d21e2133ac"
      },
      "source": [
        "#2017331047\n",
        "decoded_data= []\n",
        "first=1\n",
        "prev=1;\n",
        "for i,x in enumerate(modified_data, start=1):\n",
        "  if i%n:\n",
        "    continue\n",
        "  else:\n",
        "    if x == 0:\n",
        "      decoded_data.append(0)\n",
        "    elif x==1 or x==-1:\n",
        "      decoded_data.append(1)\n",
        "print(colored(\"The Decoded AMI Digital Data is: \", 'red'))\n",
        "print(decoded_data) "
      ],
      "execution_count": null,
      "outputs": [
        {
          "output_type": "stream",
          "name": "stdout",
          "text": [
            "\u001b[31mThe Decoded AMI Digital Data is: \u001b[0m\n",
            "[0, 1, 0, 0, 1, 1, 1, 1, 1, 0]\n"
          ]
        }
      ]
    },
    {
      "cell_type": "markdown",
      "metadata": {
        "id": "bmnNW-r5nohM"
      },
      "source": [
        "# **Multilevel Encoding(2B1Q) Encoding**"
      ]
    },
    {
      "cell_type": "markdown",
      "metadata": {
        "id": "xBMB1WGxkznc"
      },
      "source": [
        "00 -->  -3<br>\n",
        "01 -->  -1<br>\n",
        "10 -->  +3<br>\n",
        "11 -->  +1 <br>"
      ]
    },
    {
      "cell_type": "code",
      "metadata": {
        "colab": {
          "base_uri": "https://localhost:8080/",
          "height": 269
        },
        "id": "8iaRIPiV2vAf",
        "outputId": "3abeef9c-cf43-4129-fe16-7a8311c60392"
      },
      "source": [
        "#2017331047\n",
        "#Multilevel: 2B1Q\n",
        "modified_data=[]\n",
        "\n",
        "n=500  # how much sampling point will be appeared in each bit\n",
        "N = n*l #total sample points in the data\n",
        "t=np.linspace(0,N,N)\n",
        "\n",
        "prev_one=-1; # let's assume previous 1 voltage is negetive\n",
        "cnt=1;\n",
        "for i in range(l-1):\n",
        "  if i%2==1:\n",
        "    continue\n",
        "  if digital_data[i]==0 and digital_data[i+1]==0:\n",
        "       for k in range(2*n):\n",
        "        modified_data.append(-3)\n",
        "  elif digital_data[i]==0 and digital_data[i+1]==1:\n",
        "       for k in range(2*n):\n",
        "        modified_data.append(-1)\n",
        "  elif digital_data[i]==1 and digital_data[i+1]==0:\n",
        "       for k in range(2*n):\n",
        "        modified_data.append(+3)\n",
        "  elif digital_data[i]==1 and digital_data[i+1]==1:\n",
        "       for k in range(2*n):\n",
        "        modified_data.append(1)\n",
        "  #print(i)\n",
        "  \n",
        "\n",
        "print(colored(\"The Digital Data is: \", 'red'))\n",
        "print(digital_data)\n",
        "\n",
        "plt.plot(t,modified_data)\n",
        "plt.ylabel('Amplitude')\n",
        "plt.xlabel('Multilevel Encoding(2B1Q)- Assuming positive original level')\n",
        "plt.subplots_adjust(hspace=.5)\n",
        "plt.rc('font', size=15)\n",
        "fig = plt.gcf()\n",
        "fig.set_size_inches(12, 3)\n"
      ],
      "execution_count": null,
      "outputs": [
        {
          "output_type": "stream",
          "name": "stdout",
          "text": [
            "\u001b[31mThe Digital Data is: \u001b[0m\n",
            "[0, 1, 0, 0, 1, 1, 1, 1, 1, 0]\n"
          ]
        },
        {
          "output_type": "display_data",
          "data": {
            "image/png": "[encoded data removed]",
            "text/plain": [
              "<Figure size 864x216 with 1 Axes>"
            ]
          },
          "metadata": {
            "needs_background": "light"
          }
        }
      ]
    },
    {
      "cell_type": "markdown",
      "metadata": {
        "id": "plsZIgKGsHwu"
      },
      "source": [
        "# **Multilevel Encoding(2B1Q) Decoding**"
      ]
    },
    {
      "cell_type": "markdown",
      "metadata": {
        "id": "O6C9rGDgtFi0"
      },
      "source": [
        "-3 --> 00 <br>\n",
        "-1 --> 01 <br>\n",
        "+3 --> 10 <br>\n",
        "+1 --> 11  <br>"
      ]
    },
    {
      "cell_type": "code",
      "metadata": {
        "colab": {
          "base_uri": "https://localhost:8080/"
        },
        "id": "V47IC35ItnAW",
        "outputId": "dce6b933-1763-4041-c5f7-4730d1792748"
      },
      "source": [
        "#2017331047\n",
        "decoded_data= []\n",
        "db = n*2\n",
        "for i,x in enumerate(modified_data, start=1):\n",
        "  if i%db:\n",
        "    continue\n",
        "  if x==-3:\n",
        "    decoded_data.append(0)\n",
        "    decoded_data.append(0)\n",
        "  elif x==-1:\n",
        "    decoded_data.append(0)\n",
        "    decoded_data.append(1)\n",
        "  elif x==3:\n",
        "    decoded_data.append(1)\n",
        "    decoded_data.append(0)\n",
        "  elif x==1:\n",
        "    decoded_data.append(1)\n",
        "    decoded_data.append(1)\n",
        "\n",
        "print(colored(\"The Decoded Multilevel Encoding(2B1Q) Digital Data is: \", 'red'))\n",
        "print(decoded_data)"
      ],
      "execution_count": null,
      "outputs": [
        {
          "output_type": "stream",
          "name": "stdout",
          "text": [
            "\u001b[31mThe Decoded Multilevel Encoding(2B1Q) Digital Data is: \u001b[0m\n",
            "[0, 1, 0, 0, 1, 1, 1, 1, 1, 0]\n"
          ]
        }
      ]
    }
  ]
}